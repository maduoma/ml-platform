{
 "cells": [
  {
   "cell_type": "code",
   "execution_count": 5,
   "id": "94b0c557",
   "metadata": {},
   "outputs": [
    {
     "name": "stdout",
     "output_type": "stream",
     "text": [
      "Addition pipeline compiled.\n"
     ]
    }
   ],
   "source": [
    "# notebooks/03_kubeflow_pipeline_sdk_example.py\n",
    "# Equivalent of 03_kubeflow_pipeline_sdk_example.ipynb\n",
    "\n",
    "from kfp.dsl import component, pipeline\n",
    "\n",
    "@component\n",
    "def add(a: float, b: float) -> float:\n",
    "    \"\"\"Calculates sum of two arguments\"\"\"\n",
    "    return a + b\n",
    "\n",
    "@pipeline(name='Addition pipeline')\n",
    "def addition_pipeline(a: float = 1, b: float = 7):\n",
    "    add_task = add(a=a, b=b)\n",
    "    add_2_task = add(a=add_task.output, b=b)\n",
    "\n",
    "if __name__ == '__main__':\n",
    "    from kfp.compiler import Compiler\n",
    "    Compiler().compile(\n",
    "        pipeline_func=addition_pipeline,\n",
    "        package_path='addition_pipeline.yaml'\n",
    "    )\n",
    "    print(\"Addition pipeline compiled.\")\n",
    "\n"
   ]
  }
 ],
 "metadata": {
  "kernelspec": {
   "display_name": ".venv",
   "language": "python",
   "name": "python3"
  },
  "language_info": {
   "codemirror_mode": {
    "name": "ipython",
    "version": 3
   },
   "file_extension": ".py",
   "mimetype": "text/x-python",
   "name": "python",
   "nbconvert_exporter": "python",
   "pygments_lexer": "ipython3",
   "version": "3.10.12"
  }
 },
 "nbformat": 4,
 "nbformat_minor": 5
}
