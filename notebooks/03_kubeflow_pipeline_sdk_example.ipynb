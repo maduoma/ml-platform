{
 "cells": [
  {
   "cell_type": "code",
   "execution_count": null,
   "id": "94b0c557",
   "metadata": {},
   "outputs": [],
   "source": [
    "# notebooks/03_kubeflow_pipeline_sdk_example.py\n",
    "# Equivalent of 03_kubeflow_pipeline_sdk_example.ipynb\n",
    "from kfp import dsl\n",
    "from kfp.components import create_component_from_func\n",
    "\n",
    "@create_component_from_func\n",
    "def add(a: float, b: float) -> float:\n",
    "    \"\"\"Calculates sum of two arguments\"\"\"\n",
    "    return a + b\n",
    "\n",
    "@dsl.pipeline(name='Addition pipeline')\n",
    "def addition_pipeline(a: float = 1, b: float = 7):\n",
    "    add_task = add(a, b)\n",
    "    # You can use the output of one component as input to another\n",
    "    add_2_task = add(add_task.output, b)\n",
    "\n",
    "if __name__ == '__main__':\n",
    "    from kfp.compiler import Compiler\n",
    "    Compiler().compile(\n",
    "        pipeline_func=addition_pipeline,\n",
    "        package_path='addition_pipeline.yaml'\n",
    "    )\n",
    "    print(\"Addition pipeline compiled.\")\n"
   ]
  }
 ],
 "metadata": {
  "kernelspec": {
   "display_name": ".venv",
   "language": "python",
   "name": "python3"
  },
  "language_info": {
   "name": "python",
   "version": "3.10.12"
  }
 },
 "nbformat": 4,
 "nbformat_minor": 5
}
