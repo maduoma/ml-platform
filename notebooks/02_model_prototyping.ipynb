{
 "cells": [
  {
   "cell_type": "code",
   "execution_count": null,
   "id": "0e6c8583",
   "metadata": {},
   "outputs": [],
   "source": [
    "# notebooks/02_model_prototyping.py\n",
    "# Equivalent of 02_model_prototyping.ipynb\n",
    "import pandas as pd\n",
    "from sklearn.model_selection import train_test_split\n",
    "from sklearn.ensemble import RandomForestClassifier\n",
    "from sklearn.metrics import classification_report, confusion_matrix\n",
    "\n",
    "# Create dummy data\n",
    "data = {\n",
    "    'feature1': range(100),\n",
    "    'feature2': [i * 0.5 for i in range(100)],\n",
    "    'target': ([0] * 50) + ([1] * 50)\n",
    "}\n",
    "df = pd.DataFrame(data)\n",
    "df['feature3'] = df['feature1'] * df['feature2']\n",
    "\n",
    "X = df[['feature1', 'feature2', 'feature3']]\n",
    "y = df['target']\n",
    "\n",
    "X_train, X_test, y_train, y_test = train_test_split(X, y, test_size=0.3, random_state=42)\n",
    "\n",
    "model = RandomForestClassifier(n_estimators=100, random_state=42)\n",
    "model.fit(X_train, y_train)\n",
    "\n",
    "predictions = model.predict(X_test)\n",
    "\n",
    "print(\"Classification Report:\")\n",
    "print(classification_report(y_test, predictions))\n",
    "print(\"\\nConfusion Matrix:\")\n",
    "print(confusion_matrix(y_test, predictions))"
   ]
  }
 ],
 "metadata": {
  "kernelspec": {
   "display_name": ".venv",
   "language": "python",
   "name": "python3"
  },
  "language_info": {
   "name": "python",
   "version": "3.10.12"
  }
 },
 "nbformat": 4,
 "nbformat_minor": 5
}
