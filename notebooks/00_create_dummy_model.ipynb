{
 "cells": [
  {
   "cell_type": "code",
   "execution_count": 1,
   "id": "e8072b67",
   "metadata": {},
   "outputs": [
    {
     "name": "stdout",
     "output_type": "stream",
     "text": [
      "Model saved to dummy_model.joblib\n"
     ]
    }
   ],
   "source": [
    "# notebooks/00_create_dummy_model.ipynb\n",
    "\n",
    "import joblib\n",
    "from sklearn.ensemble import RandomForestClassifier\n",
    "from sklearn.datasets import make_classification\n",
    "\n",
    "# Generate some dummy data\n",
    "X, y = make_classification(\n",
    "    n_samples=1000,\n",
    "    n_features=20,\n",
    "    n_informative=5,\n",
    "    n_redundant=0,\n",
    "    random_state=42\n",
    ")\n",
    "\n",
    "# Create a simple Random Forest model\n",
    "model = RandomForestClassifier(n_estimators=100, random_state=42)\n",
    "model.fit(X, y)\n",
    "\n",
    "# Save the trained model to a file\n",
    "# This file will be packaged into our serving container\n",
    "model_filename = 'dummy_model.joblib'\n",
    "joblib.dump(model, model_filename)\n",
    "\n",
    "print(f\"Model saved to {model_filename}\")\n",
    "\n",
    "# Note: In the project structure, move this generated dummy_model.joblib\n",
    "# to ml_platform/serving/ so the Docker build can access it.\n"
   ]
  }
 ],
 "metadata": {
  "kernelspec": {
   "display_name": ".venv",
   "language": "python",
   "name": "python3"
  },
  "language_info": {
   "codemirror_mode": {
    "name": "ipython",
    "version": 3
   },
   "file_extension": ".py",
   "mimetype": "text/x-python",
   "name": "python",
   "nbconvert_exporter": "python",
   "pygments_lexer": "ipython3",
   "version": "3.10.12"
  }
 },
 "nbformat": 4,
 "nbformat_minor": 5
}
