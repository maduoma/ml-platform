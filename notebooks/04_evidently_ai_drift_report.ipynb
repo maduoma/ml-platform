{
 "cells": [
  {
   "cell_type": "code",
   "execution_count": null,
   "id": "ffe930e0",
   "metadata": {
    "vscode": {
     "languageId": "plaintext"
    }
   },
   "outputs": [],
   "source": [
    "# notebooks/04_evidently_ai_drift_report.py\n",
    "# Equivalent of 04_evidently_ai_drift_report.ipynb\n",
    "import pandas as pd\n",
    "from evidently.report import Report\n",
    "from evidently.metric_preset import DataDriftPreset\n",
    "\n",
    "# Create reference (old) and current (new) data\n",
    "ref_data = {'feature1': range(20), 'feature2': [i * 2 for i in range(20)]}\n",
    "reference_df = pd.DataFrame(ref_data)\n",
    "\n",
    "curr_data = {'feature1': range(10, 30), 'feature2': [i * 2.5 for i in range(10, 30)]}\n",
    "current_df = pd.DataFrame(curr_data)\n",
    "\n",
    "data_drift_report = Report(metrics=[DataDriftPreset()])\n",
    "data_drift_report.run(reference_data=reference_df, current_data=current_df)\n",
    "\n",
    "# Save the report to an HTML file\n",
    "data_drift_report.save_html(\"evidently_drift_report.html\")\n",
    "print(\"Evidently AI drift report saved to evidently_drift_report.html\")\n",
    "\n"
   ]
  }
 ],
 "metadata": {
  "language_info": {
   "name": "python"
  }
 },
 "nbformat": 4,
 "nbformat_minor": 5
}
