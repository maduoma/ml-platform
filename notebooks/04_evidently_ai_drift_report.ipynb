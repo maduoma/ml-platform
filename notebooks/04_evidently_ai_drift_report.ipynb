{
 "cells": [
  {
   "cell_type": "code",
   "execution_count": null,
   "id": "ffe930e0",
   "metadata": {},
   "outputs": [],
   "source": [
    "# notebooks/04_evidently_ai_drift_report.py\n",
    "# Equivalent of 04_evidently_ai_drift_report.ipynb\n",
    "import pandas as pd\n",
    "from evidently import Report, DataDriftPreset\n",
    "\n",
    "# Create reference (old) and current (new) data\n",
    "ref_data = {'feature1': range(20), 'feature2': [i * 2 for i in range(20)]}\n",
    "reference_df = pd.DataFrame(ref_data)\n",
    "\n",
    "curr_data = {'feature1': range(10, 30), 'feature2': [i * 2.5 for i in range(10, 30)]}\n",
    "current_df = pd.DataFrame(curr_data)\n",
    "\n",
    "data_drift_report = Report(metrics=[DataDriftPreset()])\n",
    "data_drift_report.run(reference_data=reference_df, current_data=current_df)\n",
    "\n",
    "# Save the report to an HTML file\n",
    "data_drift_report.save_html(\"evidently_drift_report.html\")\n",
    "print(\"Evidently AI drift report saved to evidently_drift_report.html\")\n",
    "\n"
   ]
  }
 ],
 "metadata": {
  "kernelspec": {
   "display_name": ".venv",
   "language": "python",
   "name": "python3"
  },
  "language_info": {
   "name": "python",
   "version": "3.10.12"
  }
 },
 "nbformat": 4,
 "nbformat_minor": 5
}
