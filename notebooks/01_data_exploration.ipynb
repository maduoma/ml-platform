{
 "cells": [
  {
   "cell_type": "code",
   "execution_count": null,
   "id": "eb251090",
   "metadata": {
    "vscode": {
     "languageId": "plaintext"
    }
   },
   "outputs": [],
   "source": [
    "# notebooks/01_data_exploration.py\n",
    "# Equivalent of 01_data_exploration.ipynb\n",
    "import pandas as pd\n",
    "import matplotlib.pyplot as plt\n",
    "import seaborn as sns\n",
    "\n",
    "# Create a dummy dataframe for exploration\n",
    "data = {\n",
    "    'feature1': [1.0, 2.1, 0.9, 3.4, 1.5, 2.8],\n",
    "    'feature2': [0.5, 0.4, 0.5, 0.6, 0.7, 0.3],\n",
    "    'target': [0, 1, 0, 1, 0, 1]\n",
    "}\n",
    "df = pd.DataFrame(data)\n",
    "\n",
    "print(\"Data Head:\")\n",
    "print(df.head())\n",
    "print(\"\\nData Description:\")\n",
    "print(df.describe())\n",
    "\n",
    "# Plotting\n",
    "sns.pairplot(df, hue='target')\n",
    "plt.suptitle(\"Pair Plot of Features\", y=1.02)\n",
    "plt.show()\n",
    "\n",
    "plt.figure(figsize=(8, 6))\n",
    "sns.heatmap(df.corr(), annot=True, cmap='coolwarm')\n",
    "plt.title(\"Feature Correlation Heatmap\")\n",
    "plt.show()\n"
   ]
  }
 ],
 "metadata": {
  "language_info": {
   "name": "python"
  }
 },
 "nbformat": 4,
 "nbformat_minor": 5
}
